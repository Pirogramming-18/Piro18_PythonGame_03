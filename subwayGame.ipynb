{
 "cells": [
  {
   "cell_type": "code",
   "execution_count": 3,
   "metadata": {},
   "outputs": [],
   "source": [
    "# %pip install requests\n",
    "# %pip install bs4"
   ]
  },
  {
   "cell_type": "code",
   "execution_count": 6,
   "metadata": {},
   "outputs": [],
   "source": [
    "import requests\n",
    "from interface_function import drinkingGame"
   ]
  },
  {
   "cell_type": "code",
   "execution_count": 5,
   "metadata": {},
   "outputs": [],
   "source": [
    "# url = \"https://comic.naver.com/webtoon/weekdayList?week=thu\"\n",
    "# response = requests.get(url)\n",
    "\n",
    "# print(response)\n",
    "\n",
    "# print(response.text[:100])\n",
    "# soup = bs(response.text, \"html.parser\")\n",
    "# # 이렇게 파싱된 BeautifulSoup 객체는 여러 활용법을 가지고 있다.\n",
    "\n",
    "# print(type(soup))\n",
    "# print(soup)"
   ]
  },
  {
   "cell_type": "code",
   "execution_count": 23,
   "metadata": {},
   "outputs": [],
   "source": [
    "from random import randint"
   ]
  },
  {
   "cell_type": "code",
   "execution_count": 47,
   "metadata": {},
   "outputs": [],
   "source": [
    "playerList = [ \"태훈\", \"건이\",\"유민\"]\n",
    "playerLimit = [2, 4, 8]\n",
    "loseCount = [0, 0, 0]"
   ]
  },
  {
   "cell_type": "code",
   "execution_count": 53,
   "metadata": {},
   "outputs": [],
   "source": [
    "class subwayGame(drinkingGame):\n",
    "  \n",
    "  subwayList = [\"1호선\",\"2호선\", \"3호선\", \"4호선\", \"5호선\", \"6호선\", \"7호선\", \"8호선\", \"9호선\", \"인천1호선\", \"인청2호선\", \"수인분당선\"\\\n",
    "    ,\"신분당선\", \"경의중앙선\", \"공항철도선\", \"경춘선\", \"의정부경전철\", \"용인경전철\", \"경강선\", \"우이신설경전철\", \"서해선\", \"김포시철도선\", \"신림선\"]\n",
    "  def __init__(self, playerList, playerLimit, loseCount):\n",
    "    super().__init__(playerList, playerLimit, loseCount)\n",
    "  \n",
    "  def subwayGameStart(self):\n",
    "    print(self.subwayList)\n",
    "    subwayLine = \"\"\n",
    "    if self.lastLoser != self.playerList[0]:\n",
    "      idx = randint(0, len(self.subwayList)-1)\n",
    "      subwayLine = self.subwayList[idx]\n",
    "      print(f\"지하철~🚇 지하철~🚇 지하철~🚇 지하철~🚇 몇호선~? {subwayLine}\")\n",
    "    else:\n",
    "      subwayLine = input(\"지하철~🚇 지하철~🚇 지하철~🚇 지하철~🚇 몇호선~? : \")\n",
    "      "
   ]
  },
  {
   "cell_type": "code",
   "execution_count": 54,
   "metadata": {},
   "outputs": [
    {
     "name": "stdout",
     "output_type": "stream",
     "text": [
      "['1호선', '2호선', '3호선', '4호선', '5호선', '6호선', '7호선', '8호선', '9호선', '인천1호선', '인청2호선', '수인분당선', '신분당선', '경의중앙선', '공항철도선', '경춘선', '의정부경전철', '용인경전철', '경강선', '우이신설경전철', '서해선', '김포시철도선', '신림선']\n"
     ]
    }
   ],
   "source": [
    "sub = subwayGame(playerList, playerLimit, loseCount)\n",
    "sub.subwayGameStart()"
   ]
  }
 ],
 "metadata": {
  "kernelspec": {
   "display_name": "Python 3",
   "language": "python",
   "name": "python3"
  },
  "language_info": {
   "codemirror_mode": {
    "name": "ipython",
    "version": 3
   },
   "file_extension": ".py",
   "mimetype": "text/x-python",
   "name": "python",
   "nbconvert_exporter": "python",
   "pygments_lexer": "ipython3",
   "version": "3.10.6"
  },
  "orig_nbformat": 4,
  "vscode": {
   "interpreter": {
    "hash": "9919380fe29cdf96404b3abb52a8befb777a6ca6afc5289023cc07fb3a547e33"
   }
  }
 },
 "nbformat": 4,
 "nbformat_minor": 2
}

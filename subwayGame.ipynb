{
 "cells": [
  {
   "cell_type": "code",
   "execution_count": 3,
   "metadata": {},
   "outputs": [],
   "source": [
    "# %pip install requests\n",
    "# %pip install bs4"
   ]
  },
  {
   "cell_type": "code",
   "execution_count": 156,
   "metadata": {},
   "outputs": [],
   "source": [
    "import requests\n",
    "from interface_function import drinkingGame\n",
    "from bs4 import BeautifulSoup as bs\n",
    "from random import randint"
   ]
  },
  {
   "cell_type": "code",
   "execution_count": 4,
   "metadata": {},
   "outputs": [],
   "source": [
    "playerList = [ \"태훈\", \"건이\",\"유민\"]\n",
    "playerLimit = [2, 4, 8]\n",
    "loseCount = [0, 0, 0]"
   ]
  },
  {
   "cell_type": "code",
   "execution_count": 157,
   "metadata": {},
   "outputs": [
    {
     "name": "stderr",
     "output_type": "stream",
     "text": [
      "c:\\Users\\82109\\anaconda3\\envs\\env_dsd\\lib\\site-packages\\bs4\\builder\\__init__.py:545: XMLParsedAsHTMLWarning: It looks like you're parsing an XML document using an HTML parser. If this really is an HTML document (maybe it's XHTML?), you can ignore or filter this warning. If it's XML, you should know that using an XML parser will be more reliable. To parse this document as XML, make sure you have the lxml package installed, and pass the keyword argument `features=\"xml\"` into the BeautifulSoup constructor.\n",
      "  warnings.warn(\n"
     ]
    }
   ],
   "source": [
    "url =\"http://openapi.seoul.go.kr:8088/645a615953616263353156426b7544/xml/SearchSTNBySubwayLineInfo/1/768/\"\n",
    "\n",
    "response = requests.get(url)\n",
    "\n",
    "soup = bs(response.text, \"html.parser\")\n",
    "\n",
    "stations = soup.select(\"row\")\n"
   ]
  },
  {
   "cell_type": "code",
   "execution_count": 158,
   "metadata": {},
   "outputs": [],
   "source": [
    "stationDict = dict()\n",
    "\n",
    "#1호선부터 9호선 추가\n",
    "for i in range(1, 10):\n",
    "  numberStationList = [ele.select_one(\"station_nm\").text for ele in stations if ele.select_one(\"line_num\").text == f\"0{i}호선\"]\n",
    "  stationDict[f\"{i}호선\"] = numberStationList\n",
    "\n",
    "temp = [ele.select_one(\"station_nm\").text for ele in stations if ele.select_one(\"line_num\").text == \"인천선\"]\n",
    "stationDict[\"인천1호선\"] = temp\n",
    "\n",
    "temp = [ele.select_one(\"station_nm\").text for ele in stations if ele.select_one(\"line_num\").text == \"인천2호선\"]\n",
    "stationDict[\"인천2호선\"] = temp\n",
    "\n",
    "temp = [ele.select_one(\"station_nm\").text for ele in stations if ele.select_one(\"line_num\").text == \"수인분당선\"]\n",
    "stationDict[\"수인분당선\"] = temp\n",
    "\n",
    "temp = [ele.select_one(\"station_nm\").text for ele in stations if ele.select_one(\"line_num\").text == \"신분당선\"]\n",
    "stationDict[\"신분당선\"] = temp\n",
    "\n",
    "temp = [ele.select_one(\"station_nm\").text for ele in stations if ele.select_one(\"line_num\").text == \"경의선\"]\n",
    "stationDict[\"경의중앙선\"] = temp\n",
    "\n",
    "temp = [ele.select_one(\"station_nm\").text for ele in stations if ele.select_one(\"line_num\").text == \"공항철도\"]\n",
    "stationDict[\"공항철도선\"] = temp\n",
    "\n",
    "temp = [ele.select_one(\"station_nm\").text for ele in stations if ele.select_one(\"line_num\").text == \"경춘선\"]\n",
    "stationDict[\"경춘선\"] = temp\n",
    "\n",
    "temp = [ele.select_one(\"station_nm\").text for ele in stations if ele.select_one(\"line_num\").text == \"의정부경전철\"]\n",
    "stationDict[\"의정부경전철\"] = temp\n",
    "\n",
    "temp = [ele.select_one(\"station_nm\").text for ele in stations if ele.select_one(\"line_num\").text == \"용인경전철\"]\n",
    "stationDict[\"용인경전철\"] = temp\n",
    "\n",
    "temp = [ele.select_one(\"station_nm\").text for ele in stations if ele.select_one(\"line_num\").text == \"경강선\"]\n",
    "stationDict[\"경강선\"] = temp\n",
    "\n",
    "temp = [ele.select_one(\"station_nm\").text for ele in stations if ele.select_one(\"line_num\").text == \"우이신설경전철\"]\n",
    "stationDict[\"우이신설경전철\"] = temp\n",
    "\n",
    "temp = [ele.select_one(\"station_nm\").text for ele in stations if ele.select_one(\"line_num\").text == \"서해선\"]\n",
    "stationDict[\"서해선\"] = temp\n",
    "\n",
    "temp = [ele.select_one(\"station_nm\").text for ele in stations if ele.select_one(\"line_num\").text == \"김포도시철도\"]\n",
    "stationDict[\"김포도시철도선\"] = temp\n",
    "\n",
    "temp = [ele.select_one(\"station_nm\").text for ele in stations if ele.select_one(\"line_num\").text == \"신림선\"]\n",
    "stationDict[\"신림선\"] = temp"
   ]
  },
  {
   "cell_type": "code",
   "execution_count": 161,
   "metadata": {},
   "outputs": [
    {
     "name": "stdout",
     "output_type": "stream",
     "text": [
      "{'1호선': ['탕정', '신창', '천안', '대방', '회기', '신길', '봉명', '녹천', '쌍용', '온양온천', '가산디지털단지', '금천구청', '석수', '안양', '노량진', '영등포', '외대앞', '신이문', '석계', '광운대', '월계', '창동', '명학', '신도림', '군포', '성균관대', '화서', '용산', '배방', '구로', '수원', '독산', '세류', '오산대', '오산', '진위', '송탄', '서정리', '평택', '성환', '직산', '광명', '남영', '금정', '오류동', '역곡', '부천', '송내', '부평', '동암', '동인천', '인천', '소사', '간석', '온수', '중동', '도화', '관악', '주안', '구일', '부개', '도원', '아산', '당정', '방학', '도봉', '망월사', '회룡', '의정부', '양주', '덕계', '덕정', '지행', '동두천중앙', '동두천', '의왕', '병점', '두정', '서동탄', '제물포', '세마', '평택지제', '개봉', '백운', '도봉산', '소요산', '가능', '녹양', '보산', '서울역', '시청', '종각', '종로3가', '종로5가', '동대문', '신설동', '제기동', '청량리', '동묘앞'], '2호선': ['신답', '양천구청', '잠실', '신정네거리', '대림', '당산', '잠실새내', '종합운동장', '삼성', '충정로', '신설동', '합정', '홍대입구', '신촌', '이대', '아현', '도림천', '선릉', '역삼', '강남', '교대', '서초', '방배', '사당', '낙성대', '서울대입구', '봉천', '신림', '신대방', '구로디지털단지', '신도림', '문래', '영등포구청', '용답', '용두', '을지로3가', '을지로4가', '동대문역사문화공원', '신당', '상왕십리', '왕십리', '한양대', '뚝섬', '성수', '건대입구', '구의', '강변', '잠실나루', '까치산', '시청', '을지로입구'], '3호선': ['학여울', '구파발', '종로3가', '수서', '을지로3가', '신사', '연신내', '무악재', '약수', '잠원', '대청', '일원', '독립문', '고속터미널', '도곡', '경찰병원', '경복궁', '금호', '교대', '양재', '대치', '옥수', '남부터미널', '안국', '홍제', '충무로', '지축', '동대입구', '압구정', '매봉', '불광', '녹번', '오금', '가락시장', '원흥', '삼송', '화정', '대곡', '백석', '마두', '정발산', '주엽', '대화', '원당'], '4호선': ['창동', '길음', '대공원', '미아', '회현', '동대문', '진접', '이촌', '미아사거리', '숙대입구', '오남', '인덕원', '선바위', '평촌', '금정', '수유', '서울역', '총신대입구', '동작', '사당', '남태령', '별내별가람', '당고개', '상계', '성신여대입구', '한성대입구', '동대문역사문화공원', '삼각지', '신용산', '혜화', '노원', '충무로', '경마공원', '산본', '대야미', '반월', '쌍문', '명동', '상록수', '한대앞', '중앙', '고잔', '정왕', '수리산', '과천', '범계', '초지', '정부과천청사', '안산', '오이도', '신길온천'], '5호선': ['방화', '개화산', '김포공항', '송정', '마곡', '우장산', '화곡', '까치산', '신정', '목동', '오목교', '양평', '영등포구청', '영등포시장', '마포', '공덕', '애오개', '충정로', '서대문', '광화문', '종로3가', '을지로4가', '청구', '신금호', '행당', '왕십리', '마장', '답십리', '장한평', '군자', '발산', '신길', '아차산', '광나루', '강동', '길동', '굽은다리', '고덕', '상일동', '오금', '개롱', '거여', '강일', '하남풍산', '하남시청', '하남검단산', '여의나루', '동대문역사문화공원', '천호', '명일', '둔촌동', '방이', '여의도', '올림픽공원', '마천', '미사'], '6호선': ['응암', '역촌', '불광', '독바위', '새절', '증산', '디지털미디어시티', '월드컵경기장', '마포구청', '망원', '합정', '상수', '광흥창', '대흥', '공덕', '효창공원앞', '삼각지', '녹사평', '이태원', '한강진', '버티고개', '약수', '청구', '신당', '동묘앞', '보문', '안암', '고려대', '월곡', '돌곶이', '석계', '태릉입구', '화랑대', '봉화산', '신내', '연신내', '구산', '창신', '상월곡'], '7호선': ['장암', '도봉산', '마들', '노원', '중계', '하계', '공릉', '태릉입구', '먹골', '중화', '상봉', '면목', '사가정', '용마산', '중곡', '군자', '어린이대공원', '건대입구', '뚝섬유원지', '청담', '강남구청', '학동', '논현', '반포', '고속터미널', '내방', '이수', '남성', '숭실대입구', '상도', '장승배기', '신대방삼거리', '보라매', '신풍', '대림', '남구로', '가산디지털단지', '철산', '광명사거리', '천왕', '온수', '수락산', '까치울', '부천종합운동장', '춘의', '삼산체육관', '부평구청', '석남', '신중동', '부천시청', '상동', '굴포천', '산곡'], '8호선': ['암사', '강동구청', '몽촌토성', '잠실', '석촌', '송파', '가락시장', '문정', '장지', '복정', '산성', '남한산성입구', '단대오거리', '신흥', '수진', '모란', '천호', '남위례'], '9호선': ['개화', '김포공항', '공항시장', '신방화', '마곡나루', '염창', '신목동', '노량진', '흑석', '선정릉', '둔촌오륜', '양천향교', '증미', '국회의사당', '샛강', '노들', '신논현', '언주', '중앙보훈병원', '가양', '등촌', '선유도', '당산', '여의도', '동작', '구반포', '신반포', '고속터미널', '사평', '삼성중앙', '한성백제', '올림픽공원', '봉은사', '종합운동장', '삼전', '석촌고분', '석촌', '송파나루'], '인천1호선': ['계양', '귤현', '박촌', '경인교대입구', '작전', '갈산', '부평구청', '부평시장', '부평', '동수', '부평삼거리', '인천시청', '예술회관', '인천터미널', '임학', '문학경기장', '선학', '신연수', '원인재', '동춘', '동막', '캠퍼스타운', '테크노파크', '지식정보단지', '센트럴파크', '송도달빛축제공원', '계산', '간석오거리', '인천대입구', '국제업무지구'], '인천2호선': ['왕길', '검단사거리', '독정', '검바위', '아시아드경기장', '서부여성회관', '인천가좌', '가재울', '주안', '시민공원', '인천시청', '모래내시장', '남동구청', '인천대공원', '검단오류', '검암', '가정', '가정중앙시장', '석천사거리', '운연', '마전', '완정', '서구청', '석남', '주안국가산단', '석바위시장', '만수'], '수인분당선': ['서울숲', '복정', '구룡', '개포동', '선릉', '도곡', '대모산입구', '왕십리', '수서', '한티', '오이도', '초지', '신길온천', '정왕', '청량리', '강남구청', '선정릉', '안산', '가천대', '태평', '모란', '야탑', '서현', '수내', '정자', '미금', '오리', '이매', '보정', '신갈', '상갈', '영통', '매탄권선', '수원시청', '고색', '사리', '구성', '달월', '월곶', '소래포구', '호구포', '남동인더스파크', '원인재', '연수', '송도', '신포', '죽전', '한대앞', '중앙', '야목', '숭의', '고잔', '수원', '압구정로데오', '기흥', '청명', '망포', '매교', '오목천', '어천', '인천논현', '인하대', '인천'], '신분당선': ['강남', '양재', '신사', '논현', '신논현', '양재시민의숲', '청계산입구', '판교', '정자', '미금', '동천', '수지구청', '성복', '상현', '광교중앙', '광교'], '경의중앙선': ['청량리', '원덕', '홍대입구', '일산', '야당', '탄현', '용산', '왕십리', '가좌', '금릉', '양원', '이촌', '덕소', '용문', '디지털미디어시티', '중랑', '강매', '서빙고', '망우', '국수', '한남', '금촌', '지평', '서울역', '효창공원앞', '공덕', '곡산', '운정', '파주', '구리', '도농', '양정', '팔당', '운길산', '양수', '신원', '아신', '오빈', '양평', '문산', '옥수', '응봉', '화전', '신촌', '행신', '월롱', '임진강', '회기', '상봉', '도심', '서강대', '풍산', '수색', '백마', '능곡', '대곡'], '공항철도선': ['서울역', '운서', '공항화물청사', '공덕', '검암', '청라국제도시', '홍대입구', '디지털미디어시티', '마곡나루', '김포공항', '계양', '인천공항1터미널', '인천공항2터미널', '영종'], '경춘선': ['금곡', '천마산', '마석', '망우', '상천', '대성리', '신내', '광운대', '청량리', '갈매', '퇴계원', '굴봉산', '백양리', '김유정', '남춘천', '중랑', '평내호평', '가평', '상봉', '청평', '회기', '사릉', '별내', '춘천', '강촌'], '의정부경전철': ['발곡', '회룡', '범골', '경전철의정부', '의정부시청', '흥선', '의정부중앙', '동오', '새말', '경기도청북부청사', '효자', '곤제', '어룡', '송산', '탑석'], '용인경전철': ['기흥', '강남대', '지석', '어정', '동백', '초당', '삼가', '시청.용인대', '명지대', '김량장', '운동장.송담대', '고진', '보평', '둔전', '전대.에버랜드'], '경강선': ['이매', '세종대왕릉', '여주', '경기광주', '곤지암', '이천', '삼동', '초월', '신둔도예촌', '판교', '부발'], '우이신설경전철': ['북한산우이', '솔밭공원', '4·19민주묘지', '가오리', '화계', '삼양', '삼양사거리', '솔샘', '북한산보국문', '정릉', '성신여대입구', '보문', '신설동'], '서해선': ['시흥능곡', '달미', '신현', '시흥시청', '선부', '초지', '시우', '원시', '소사', '소새울', '시흥대야', '신천'], '김포도시철도선': ['양촌', '구래', '마산', '장기', '운양', '걸포북변', '사우', '풍무', '고촌', '김포공항'], '신림선': ['대방', '샛강', '보라매공원', '서울지방병무청', '보라매', '보라매병원', '당곡', '신림', '서원', '서울대벤처타운', '관악산']}\n"
     ]
    }
   ],
   "source": [
    "print(stationDict)"
   ]
  },
  {
   "cell_type": "code",
   "execution_count": 197,
   "metadata": {},
   "outputs": [],
   "source": [
    "class subwayGame(drinkingGame):\n",
    "  \n",
    "  subwayList = [\"1호선\",\"2호선\", \"3호선\", \"4호선\", \"5호선\", \"6호선\", \"7호선\", \"8호선\", \"9호선\", \"인천1호선\", \"인천2호선\", \"수인분당선\"\\\n",
    "    ,\"신분당선\", \"경의중앙선\", \"공항철도선\", \"경춘선\", \"의정부경전철\", \"용인경전철\", \"경강선\", \"우이신설경전철\", \"서해선\", \"김포도시철도선\", \"신림선\"]\n",
    "  \n",
    "  def __init__(self, playerList, playerLimit, loseCount, stationDict):\n",
    "    self.stationDict = stationDict\n",
    "    super().__init__(playerList, playerLimit, loseCount)\n",
    "  \n",
    "  def subwayGameStart(self):\n",
    "    subwayLine = \"\"\n",
    "    if self.lastLoser != self.playerList[0]:\n",
    "      idx = randint(0, len(self.subwayList)-1)\n",
    "      subwayLine = self.subwayList[idx]\n",
    "      print(f\"지하철~🚇 지하철~🚇 지하철~🚇 지하철~🚇 몇호선~? {subwayLine}\")\n",
    "    else:\n",
    "      subwayLine = input(\"지하철~🚇 지하철~🚇 지하철~🚇 지하철~🚇 몇호선~? : \")\n",
    "      while subwayLine not in self.stationDict:\n",
    "        print(\"살리고~~~ 살리고~~~ 살리고~ 살리고~ 살리고~\")\n",
    "        print(\"지하철 호선 목록: \", \" \".join(self.subwayList))\n",
    "        subwayLine = input(\"지하철~🚇 지하철~🚇 지하철~🚇 지하철~🚇 몇호선~? : \")\n",
    "      \n",
    "      idx = playerList.index(self.lastLoser)\n",
    "      wrongAnswer = False\n",
    "      answerList = []\n",
    "      correctSubway = self.stationDict[subwayLine]\n",
    "      if subwayLine != \"2호선\":\n",
    "        wrongSubway = self.stationDict[\"2호선\"][:10]\n",
    "      else:\n",
    "        wrongSubway = self.stationDict[\"1호선\"][:10]\n",
    "      computerSubway = correctSubway + wrongSubway\n",
    "      print(correctSubway)\n",
    "      num = len(computerSubway)\n",
    "      \n",
    "\n",
    "      while not wrongAnswer:\n",
    "        # for i in range(len(playerList)):\n",
    "        if playerList[idx] == playerList[0]:\n",
    "          answer = input(f\"{playerList[0]}의 차례입니다. {subwayLine}의 역을 하나 말해주세요: \")\n",
    "          answer =answer[:-1]\n",
    "        else:\n",
    "          answer = computerSubway[randint(0, num-1)]\n",
    "          print(f\"{playerList[idx]}의 차례입니다. {subwayLine}의 역을 하나 말해주세요: {answer}역\")\n",
    "        print(answer)\n",
    "        \n",
    "        if answer not in correctSubway:\n",
    "          print(f\"땡! {answer}는 {subwayLine}이 아닙니다. 마셔~ 마셔~ 먹고 뒤져~🍾\")\n",
    "          wrongAnswer = True\n",
    "          self.lastLoser = playerList[idx]\n",
    "          break\n",
    "        elif answer in answerList: #호선이 틀리거나 중복된 경우\n",
    "          print(\"땡! 이미 말한 역입니다. 마셔~ 마셔~ 먹고 뒤져~🍾\")\n",
    "          wrongAnswer = True\n",
    "          self.lastLoser = playerList[idx]\n",
    "          break\n",
    "        answerList.append(answer)\n",
    "\n",
    "        idx += 1\n",
    "        if idx ==len(playerList):\n",
    "          idx = 0\n",
    "        \n",
    "      \n",
    "      \n"
   ]
  },
  {
   "cell_type": "code",
   "execution_count": 198,
   "metadata": {},
   "outputs": [
    {
     "name": "stdout",
     "output_type": "stream",
     "text": [
      "['학여울', '구파발', '종로3가', '수서', '을지로3가', '신사', '연신내', '무악재', '약수', '잠원', '대청', '일원', '독립문', '고속터미널', '도곡', '경찰병원', '경복궁', '금호', '교대', '양재', '대치', '옥수', '남부터미널', '안국', '홍제', '충무로', '지축', '동대입구', '압구정', '매봉', '불광', '녹번', '오금', '가락시장', '원흥', '삼송', '화정', '대곡', '백석', '마두', '정발산', '주엽', '대화', '원당']\n",
      "교대\n",
      "중복x\n",
      "건이의 차례입니다. 3호선의 역을 하나 말해주세요: 도곡역\n",
      "도곡\n",
      "중복x\n",
      "유민의 차례입니다. 3호선의 역을 하나 말해주세요: 고속터미널역\n",
      "고속터미널\n",
      "중복x\n",
      "수서\n",
      "중복x\n",
      "건이의 차례입니다. 3호선의 역을 하나 말해주세요: 신사역\n",
      "신사\n",
      "중복x\n",
      "유민의 차례입니다. 3호선의 역을 하나 말해주세요: 일원역\n",
      "일원\n",
      "중복x\n",
      "서울대입구\n",
      "땡! 서울대입구는 3호선이 아닙니다. 마셔~ 마셔~ 먹고 뒤져~🍾\n"
     ]
    }
   ],
   "source": [
    "sub = subwayGame(playerList, playerLimit, loseCount, stationDict)\n",
    "sub.subwayGameStart()"
   ]
  }
 ],
 "metadata": {
  "kernelspec": {
   "display_name": "Python 3",
   "language": "python",
   "name": "python3"
  },
  "language_info": {
   "codemirror_mode": {
    "name": "ipython",
    "version": 3
   },
   "file_extension": ".py",
   "mimetype": "text/x-python",
   "name": "python",
   "nbconvert_exporter": "python",
   "pygments_lexer": "ipython3",
   "version": "3.10.6"
  },
  "orig_nbformat": 4,
  "vscode": {
   "interpreter": {
    "hash": "9919380fe29cdf96404b3abb52a8befb777a6ca6afc5289023cc07fb3a547e33"
   }
  }
 },
 "nbformat": 4,
 "nbformat_minor": 2
}

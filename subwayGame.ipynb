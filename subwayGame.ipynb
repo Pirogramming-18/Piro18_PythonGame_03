{
 "cells": [
  {
   "cell_type": "code",
   "execution_count": 3,
   "metadata": {},
   "outputs": [],
   "source": [
    "# %pip install requests\n",
    "# %pip install bs4"
   ]
  },
  {
   "cell_type": "code",
   "execution_count": 156,
   "metadata": {},
   "outputs": [],
   "source": [
    "import requests\n",
    "from interface_function import drinkingGame\n",
    "from bs4 import BeautifulSoup as bs\n",
    "from random import randint"
   ]
  },
  {
   "cell_type": "code",
   "execution_count": 4,
   "metadata": {},
   "outputs": [],
   "source": [
    "playerList = [ \"태훈\", \"건이\",\"유민\"]\n",
    "playerLimit = [2, 4, 8]\n",
    "loseCount = [0, 0, 0]"
   ]
  },
  {
   "cell_type": "code",
   "execution_count": 157,
   "metadata": {},
   "outputs": [
    {
     "name": "stderr",
     "output_type": "stream",
     "text": [
      "c:\\Users\\82109\\anaconda3\\envs\\env_dsd\\lib\\site-packages\\bs4\\builder\\__init__.py:545: XMLParsedAsHTMLWarning: It looks like you're parsing an XML document using an HTML parser. If this really is an HTML document (maybe it's XHTML?), you can ignore or filter this warning. If it's XML, you should know that using an XML parser will be more reliable. To parse this document as XML, make sure you have the lxml package installed, and pass the keyword argument `features=\"xml\"` into the BeautifulSoup constructor.\n",
      "  warnings.warn(\n"
     ]
    }
   ],
   "source": [
    "url =\"http://openapi.seoul.go.kr:8088/645a615953616263353156426b7544/xml/SearchSTNBySubwayLineInfo/1/768/\"\n",
    "response = requests.get(url)\n",
    "soup = bs(response.text, \"html.parser\")\n",
    "stations = soup.select(\"row\")\n"
   ]
  },
  {
   "cell_type": "code",
   "execution_count": 158,
   "metadata": {},
   "outputs": [],
   "source": [
    "stationDict = dict()\n",
    "\n",
    "#1호선부터 9호선 추가\n",
    "for i in range(1, 10):\n",
    "  numberStationList = [ele.select_one(\"station_nm\").text for ele in stations if ele.select_one(\"line_num\").text == f\"0{i}호선\"]\n",
    "  stationDict[f\"{i}호선\"] = numberStationList\n",
    "\n",
    "temp = [ele.select_one(\"station_nm\").text for ele in stations if ele.select_one(\"line_num\").text == \"인천선\"]\n",
    "stationDict[\"인천1호선\"] = temp\n",
    "\n",
    "temp = [ele.select_one(\"station_nm\").text for ele in stations if ele.select_one(\"line_num\").text == \"인천2호선\"]\n",
    "stationDict[\"인천2호선\"] = temp\n",
    "\n",
    "temp = [ele.select_one(\"station_nm\").text for ele in stations if ele.select_one(\"line_num\").text == \"수인분당선\"]\n",
    "stationDict[\"수인분당선\"] = temp\n",
    "\n",
    "temp = [ele.select_one(\"station_nm\").text for ele in stations if ele.select_one(\"line_num\").text == \"신분당선\"]\n",
    "stationDict[\"신분당선\"] = temp\n",
    "\n",
    "temp = [ele.select_one(\"station_nm\").text for ele in stations if ele.select_one(\"line_num\").text == \"경의선\"]\n",
    "stationDict[\"경의중앙선\"] = temp\n",
    "\n",
    "temp = [ele.select_one(\"station_nm\").text for ele in stations if ele.select_one(\"line_num\").text == \"공항철도\"]\n",
    "stationDict[\"공항철도선\"] = temp\n",
    "\n",
    "temp = [ele.select_one(\"station_nm\").text for ele in stations if ele.select_one(\"line_num\").text == \"경춘선\"]\n",
    "stationDict[\"경춘선\"] = temp\n",
    "\n",
    "temp = [ele.select_one(\"station_nm\").text for ele in stations if ele.select_one(\"line_num\").text == \"의정부경전철\"]\n",
    "stationDict[\"의정부경전철\"] = temp\n",
    "\n",
    "temp = [ele.select_one(\"station_nm\").text for ele in stations if ele.select_one(\"line_num\").text == \"용인경전철\"]\n",
    "stationDict[\"용인경전철\"] = temp\n",
    "\n",
    "temp = [ele.select_one(\"station_nm\").text for ele in stations if ele.select_one(\"line_num\").text == \"경강선\"]\n",
    "stationDict[\"경강선\"] = temp\n",
    "\n",
    "temp = [ele.select_one(\"station_nm\").text for ele in stations if ele.select_one(\"line_num\").text == \"우이신설경전철\"]\n",
    "stationDict[\"우이신설경전철\"] = temp\n",
    "\n",
    "temp = [ele.select_one(\"station_nm\").text for ele in stations if ele.select_one(\"line_num\").text == \"서해선\"]\n",
    "stationDict[\"서해선\"] = temp\n",
    "\n",
    "temp = [ele.select_one(\"station_nm\").text for ele in stations if ele.select_one(\"line_num\").text == \"김포도시철도\"]\n",
    "stationDict[\"김포도시철도선\"] = temp\n",
    "\n",
    "temp = [ele.select_one(\"station_nm\").text for ele in stations if ele.select_one(\"line_num\").text == \"신림선\"]\n",
    "stationDict[\"신림선\"] = temp"
   ]
  },
  {
   "cell_type": "code",
   "execution_count": null,
   "metadata": {},
   "outputs": [],
   "source": [
    "print(stationDict)"
   ]
  },
  {
   "cell_type": "code",
   "execution_count": 202,
   "metadata": {},
   "outputs": [],
   "source": [
    "class subwayGame(drinkingGame):\n",
    "  \n",
    "  subwayList = [\"1호선\",\"2호선\", \"3호선\", \"4호선\", \"5호선\", \"6호선\", \"7호선\", \"8호선\", \"9호선\", \"인천1호선\", \"인천2호선\", \"수인분당선\"\\\n",
    "    ,\"신분당선\", \"경의중앙선\", \"공항철도선\", \"경춘선\", \"의정부경전철\", \"용인경전철\", \"경강선\", \"우이신설경전철\", \"서해선\", \"김포도시철도선\", \"신림선\"]\n",
    "  \n",
    "  def __init__(self, playerList, playerLimit, loseCount, stationDict):\n",
    "    self.stationDict = stationDict\n",
    "    super().__init__(playerList, playerLimit, loseCount)\n",
    "  \n",
    "  def subwayGameStart(self):\n",
    "    subwayLine = \"\"\n",
    "    if self.lastLoser != self.playerList[0]:\n",
    "      idx = randint(0, len(self.subwayList)-1)\n",
    "      subwayLine = self.subwayList[idx]\n",
    "      print(f\"지하철~🚇 지하철~🚇 지하철~🚇 지하철~🚇 몇호선~? {subwayLine}\")\n",
    "    else:\n",
    "      subwayLine = input(\"지하철~🚇 지하철~🚇 지하철~🚇 지하철~🚇 몇호선~? : \")\n",
    "      while subwayLine not in self.stationDict:\n",
    "        print(\"살리고~~~ 살리고~~~ 살리고~ 살리고~ 살리고~\")\n",
    "        print(\"지하철 호선 목록: \", \" \".join(self.subwayList))\n",
    "        subwayLine = input(\"지하철~🚇 지하철~🚇 지하철~🚇 지하철~🚇 몇호선~? : \")\n",
    "      \n",
    "      idx = playerList.index(self.lastLoser)\n",
    "      wrongAnswer = False\n",
    "      answerList = []\n",
    "      correctSubway = self.stationDict[subwayLine]\n",
    "      if subwayLine != \"2호선\":\n",
    "        wrongSubway = self.stationDict[\"2호선\"][:10]\n",
    "      else:\n",
    "        wrongSubway = self.stationDict[\"1호선\"][:10]\n",
    "      computerSubway = correctSubway + wrongSubway\n",
    "      num = len(computerSubway)\n",
    "      \n",
    "\n",
    "      while not wrongAnswer:\n",
    "        # for i in range(len(playerList)):\n",
    "        if playerList[idx] == playerList[0]:\n",
    "          answer = input(f\"{playerList[0]}의 차례입니다. {subwayLine}의 역을 하나 말해주세요: \")\n",
    "          answer =answer[:-1]\n",
    "        else:\n",
    "          answer = computerSubway[randint(0, num-1)]\n",
    "          print(f\"{playerList[idx]}의 차례입니다. {subwayLine}의 역을 하나 말해주세요: {answer}역\")\n",
    "        \n",
    "        if answer not in correctSubway:\n",
    "          print(f\"땡! {answer}는 {subwayLine}이 아닙니다. 마셔~ 마셔~ 먹고 뒤져~🍾\")\n",
    "          wrongAnswer = True\n",
    "          self.lastLoser = playerList[idx]\n",
    "          break\n",
    "        elif answer in answerList: #호선이 틀리거나 중복된 경우\n",
    "          print(f\"{playerList[idx]} 땡! 이미 말한 역입니다. 마셔~ 마셔~ 먹고 뒤져~🍾\")\n",
    "          wrongAnswer = True\n",
    "          self.lastLoser = playerList[idx]\n",
    "          break\n",
    "        answerList.append(answer)\n",
    "\n",
    "        idx += 1\n",
    "        if idx ==len(playerList):\n",
    "          idx = 0\n",
    "        \n",
    "      \n",
    "      \n"
   ]
  },
  {
   "cell_type": "code",
   "execution_count": 203,
   "metadata": {},
   "outputs": [
    {
     "name": "stdout",
     "output_type": "stream",
     "text": [
      "['학여울', '구파발', '종로3가', '수서', '을지로3가', '신사', '연신내', '무악재', '약수', '잠원', '대청', '일원', '독립문', '고속터미널', '도곡', '경찰병원', '경복궁', '금호', '교대', '양재', '대치', '옥수', '남부터미널', '안국', '홍제', '충무로', '지축', '동대입구', '압구정', '매봉', '불광', '녹번', '오금', '가락시장', '원흥', '삼송', '화정', '대곡', '백석', '마두', '정발산', '주엽', '대화', '원당']\n",
      "건이의 차례입니다. 3호선의 역을 하나 말해주세요: 녹번역\n",
      "유민의 차례입니다. 3호선의 역을 하나 말해주세요: 백석역\n",
      "건이의 차례입니다. 3호선의 역을 하나 말해주세요: 홍제역\n",
      "유민의 차례입니다. 3호선의 역을 하나 말해주세요: 녹번역\n",
      "땡! 이미 말한 역입니다. 마셔~ 마셔~ 먹고 뒤져~🍾\n"
     ]
    }
   ],
   "source": [
    "sub = subwayGame(playerList, playerLimit, loseCount, stationDict)\n",
    "sub.subwayGameStart()"
   ]
  }
 ],
 "metadata": {
  "kernelspec": {
   "display_name": "Python 3",
   "language": "python",
   "name": "python3"
  },
  "language_info": {
   "codemirror_mode": {
    "name": "ipython",
    "version": 3
   },
   "file_extension": ".py",
   "mimetype": "text/x-python",
   "name": "python",
   "nbconvert_exporter": "python",
   "pygments_lexer": "ipython3",
   "version": "3.10.6"
  },
  "orig_nbformat": 4,
  "vscode": {
   "interpreter": {
    "hash": "9919380fe29cdf96404b3abb52a8befb777a6ca6afc5289023cc07fb3a547e33"
   }
  }
 },
 "nbformat": 4,
 "nbformat_minor": 2
}
